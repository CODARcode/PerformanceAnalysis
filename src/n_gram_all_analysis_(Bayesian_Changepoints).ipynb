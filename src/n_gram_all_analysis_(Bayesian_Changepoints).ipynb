{
 "cells": [
  {
   "cell_type": "code",
   "execution_count": 21,
   "metadata": {
    "collapsed": true
   },
   "outputs": [],
   "source": [
    "__date__   = 4/4/2018\n",
    "__author__ = \"Alok Singh\""
   ]
  },
  {
   "cell_type": "code",
   "execution_count": 22,
   "metadata": {
    "collapsed": true
   },
   "outputs": [],
   "source": [
    "# Paper: https://arxiv.org/pdf/0710.3742v1.pdf"
   ]
  },
  {
   "cell_type": "code",
   "execution_count": 3,
   "metadata": {
    "collapsed": false
   },
   "outputs": [],
   "source": [
    "import pickle\n",
    "%matplotlib inline\n",
    "import matplotlib\n",
    "import matplotlib.pyplot as plt\n",
    "import seaborn as sns\n",
    "import os\n",
    "import glob\n",
    "import graphlab as gl"
   ]
  },
  {
   "cell_type": "code",
   "execution_count": 10,
   "metadata": {
    "collapsed": false,
    "scrolled": true
   },
   "outputs": [
    {
     "name": "stdout",
     "output_type": "stream",
     "text": [
      "(1, ' File : ', 'ee-test-for-ml-lammps-128+128.3755465.0.json.df.csv', '| Size > ', 6, 173033)\n",
      "(2, ' File : ', 'ee-test-for-ml-lammps-128+128.3755465.1.json.df.csv', '| Size > ', 6, 344592)\n",
      "(3, ' File : ', 'ee-test-for-ml-lammps-128+128.3755465.10.json.df.csv', '| Size > ', 6, 515392)\n",
      "(4, ' File : ', 'ee-test-for-ml-lammps-128+128.3755465.100.json.df.csv', '| Size > ', 6, 689818)\n",
      "(5, ' File : ', 'ee-test-for-ml-lammps-128+128.3755465.101.json.df.csv', '| Size > ', 6, 863388)\n",
      "(6, ' File : ', 'ee-test-for-ml-lammps-128+128.3755465.102.json.df.csv', '| Size > ', 6, 1036022)\n",
      "(7, ' File : ', 'ee-test-for-ml-lammps-128+128.3755465.103.json.df.csv', '| Size > ', 6, 1203746)\n",
      "(8, ' File : ', 'ee-test-for-ml-lammps-128+128.3755465.104.json.df.csv', '| Size > ', 6, 1375310)\n",
      "(9, ' File : ', 'ee-test-for-ml-lammps-128+128.3755465.105.json.df.csv', '| Size > ', 6, 1547419)\n",
      "(10, ' File : ', 'ee-test-for-ml-lammps-128+128.3755465.106.json.df.csv', '| Size > ', 6, 1718044)\n",
      "(11, ' File : ', 'ee-test-for-ml-lammps-128+128.3755465.107.json.df.csv', '| Size > ', 6, 1889784)\n",
      "(12, ' File : ', 'ee-test-for-ml-lammps-128+128.3755465.108.json.df.csv', '| Size > ', 6, 2063836)\n",
      "(13, ' File : ', 'ee-test-for-ml-lammps-128+128.3755465.109.json.df.csv', '| Size > ', 6, 2237269)\n",
      "(14, ' File : ', 'ee-test-for-ml-lammps-128+128.3755465.11.json.df.csv', '| Size > ', 6, 2408677)\n",
      "(15, ' File : ', 'ee-test-for-ml-lammps-128+128.3755465.110.json.df.csv', '| Size > ', 6, 2580833)\n",
      "(16, ' File : ', 'ee-test-for-ml-lammps-128+128.3755465.111.json.df.csv', '| Size > ', 6, 2755696)\n",
      "(17, ' File : ', 'ee-test-for-ml-lammps-128+128.3755465.112.json.df.csv', '| Size > ', 6, 2929717)\n",
      "(18, ' File : ', 'ee-test-for-ml-lammps-128+128.3755465.113.json.df.csv', '| Size > ', 6, 3104498)\n",
      "(19, ' File : ', 'ee-test-for-ml-lammps-128+128.3755465.114.json.df.csv', '| Size > ', 6, 3278406)\n",
      "(20, ' File : ', 'ee-test-for-ml-lammps-128+128.3755465.115.json.df.csv', '| Size > ', 6, 3450778)\n",
      "(21, ' File : ', 'ee-test-for-ml-lammps-128+128.3755465.116.json.df.csv', '| Size > ', 6, 3620004)\n",
      "(22, ' File : ', 'ee-test-for-ml-lammps-128+128.3755465.117.json.df.csv', '| Size > ', 6, 3792834)\n",
      "(23, ' File : ', 'ee-test-for-ml-lammps-128+128.3755465.118.json.df.csv', '| Size > ', 6, 3964478)\n",
      "(24, ' File : ', 'ee-test-for-ml-lammps-128+128.3755465.119.json.df.csv', '| Size > ', 6, 4136060)\n",
      "(25, ' File : ', 'ee-test-for-ml-lammps-128+128.3755465.12.json.df.csv', '| Size > ', 6, 4309791)\n",
      "(26, ' File : ', 'ee-test-for-ml-lammps-128+128.3755465.120.json.df.csv', '| Size > ', 6, 4482850)\n",
      "(27, ' File : ', 'ee-test-for-ml-lammps-128+128.3755465.121.json.df.csv', '| Size > ', 6, 4655172)\n",
      "(28, ' File : ', 'ee-test-for-ml-lammps-128+128.3755465.122.json.df.csv', '| Size > ', 6, 4826990)\n",
      "(29, ' File : ', 'ee-test-for-ml-lammps-128+128.3755465.123.json.df.csv', '| Size > ', 6, 5000128)\n",
      "(30, ' File : ', 'ee-test-for-ml-lammps-128+128.3755465.124.json.df.csv', '| Size > ', 6, 5174817)\n",
      "(31, ' File : ', 'ee-test-for-ml-lammps-128+128.3755465.125.json.df.csv', '| Size > ', 6, 5347484)\n",
      "(32, ' File : ', 'ee-test-for-ml-lammps-128+128.3755465.126.json.df.csv', '| Size > ', 6, 5520940)\n",
      "(33, ' File : ', 'ee-test-for-ml-lammps-128+128.3755465.127.json.df.csv', '| Size > ', 6, 5693766)\n",
      "(34, ' File : ', 'ee-test-for-ml-lammps-128+128.3755465.13.json.df.csv', '| Size > ', 6, 5868780)\n",
      "(35, ' File : ', 'ee-test-for-ml-lammps-128+128.3755465.14.json.df.csv', '| Size > ', 6, 6039637)\n",
      "(36, ' File : ', 'ee-test-for-ml-lammps-128+128.3755465.15.json.df.csv', '| Size > ', 6, 6214343)\n",
      "(37, ' File : ', 'ee-test-for-ml-lammps-128+128.3755465.16.json.df.csv', '| Size > ', 6, 6388892)\n",
      "(38, ' File : ', 'ee-test-for-ml-lammps-128+128.3755465.17.json.df.csv', '| Size > ', 6, 6562566)\n",
      "(39, ' File : ', 'ee-test-for-ml-lammps-128+128.3755465.18.json.df.csv', '| Size > ', 6, 6737331)\n",
      "(40, ' File : ', 'ee-test-for-ml-lammps-128+128.3755465.19.json.df.csv', '| Size > ', 6, 6910171)\n",
      "(41, ' File : ', 'ee-test-for-ml-lammps-128+128.3755465.2.json.df.csv', '| Size > ', 6, 7082776)\n",
      "(42, ' File : ', 'ee-test-for-ml-lammps-128+128.3755465.20.json.df.csv', '| Size > ', 6, 7253396)\n",
      "(43, ' File : ', 'ee-test-for-ml-lammps-128+128.3755465.21.json.df.csv', '| Size > ', 6, 7424699)\n",
      "(44, ' File : ', 'ee-test-for-ml-lammps-128+128.3755465.22.json.df.csv', '| Size > ', 6, 7595758)\n",
      "(45, ' File : ', 'ee-test-for-ml-lammps-128+128.3755465.23.json.df.csv', '| Size > ', 6, 7767106)\n",
      "(46, ' File : ', 'ee-test-for-ml-lammps-128+128.3755465.24.json.df.csv', '| Size > ', 6, 7942153)\n",
      "(47, ' File : ', 'ee-test-for-ml-lammps-128+128.3755465.25.json.df.csv', '| Size > ', 6, 8112827)\n",
      "(48, ' File : ', 'ee-test-for-ml-lammps-128+128.3755465.26.json.df.csv', '| Size > ', 6, 8284292)\n",
      "(49, ' File : ', 'ee-test-for-ml-lammps-128+128.3755465.27.json.df.csv', '| Size > ', 6, 8457429)\n",
      "(50, ' File : ', 'ee-test-for-ml-lammps-128+128.3755465.28.json.df.csv', '| Size > ', 6, 8632615)\n",
      "(51, ' File : ', 'ee-test-for-ml-lammps-128+128.3755465.29.json.df.csv', '| Size > ', 6, 8805014)\n",
      "(52, ' File : ', 'ee-test-for-ml-lammps-128+128.3755465.3.json.df.csv', '| Size > ', 6, 8976864)\n",
      "(53, ' File : ', 'ee-test-for-ml-lammps-128+128.3755465.30.json.df.csv', '| Size > ', 6, 9151371)\n",
      "(54, ' File : ', 'ee-test-for-ml-lammps-128+128.3755465.31.json.df.csv', '| Size > ', 6, 9323894)\n",
      "(55, ' File : ', 'ee-test-for-ml-lammps-128+128.3755465.32.json.df.csv', '| Size > ', 6, 9496330)\n",
      "(56, ' File : ', 'ee-test-for-ml-lammps-128+128.3755465.33.json.df.csv', '| Size > ', 6, 9668885)\n",
      "(57, ' File : ', 'ee-test-for-ml-lammps-128+128.3755465.34.json.df.csv', '| Size > ', 6, 9842135)\n",
      "(58, ' File : ', 'ee-test-for-ml-lammps-128+128.3755465.35.json.df.csv', '| Size > ', 6, 10015019)\n",
      "(59, ' File : ', 'ee-test-for-ml-lammps-128+128.3755465.36.json.df.csv', '| Size > ', 6, 10187616)\n",
      "(60, ' File : ', 'ee-test-for-ml-lammps-128+128.3755465.37.json.df.csv', '| Size > ', 6, 10362115)\n",
      "(61, ' File : ', 'ee-test-for-ml-lammps-128+128.3755465.38.json.df.csv', '| Size > ', 6, 10536074)\n",
      "(62, ' File : ', 'ee-test-for-ml-lammps-128+128.3755465.39.json.df.csv', '| Size > ', 6, 10704816)\n",
      "(63, ' File : ', 'ee-test-for-ml-lammps-128+128.3755465.4.json.df.csv', '| Size > ', 6, 10879561)\n",
      "(64, ' File : ', 'ee-test-for-ml-lammps-128+128.3755465.40.json.df.csv', '| Size > ', 6, 11053594)\n",
      "(65, ' File : ', 'ee-test-for-ml-lammps-128+128.3755465.41.json.df.csv', '| Size > ', 6, 11225515)\n",
      "(66, ' File : ', 'ee-test-for-ml-lammps-128+128.3755465.42.json.df.csv', '| Size > ', 6, 11397313)\n",
      "(67, ' File : ', 'ee-test-for-ml-lammps-128+128.3755465.43.json.df.csv', '| Size > ', 6, 11570555)\n",
      "(68, ' File : ', 'ee-test-for-ml-lammps-128+128.3755465.44.json.df.csv', '| Size > ', 6, 11745736)\n",
      "(69, ' File : ', 'ee-test-for-ml-lammps-128+128.3755465.45.json.df.csv', '| Size > ', 6, 11918620)\n",
      "(70, ' File : ', 'ee-test-for-ml-lammps-128+128.3755465.46.json.df.csv', '| Size > ', 6, 12089706)\n",
      "(71, ' File : ', 'ee-test-for-ml-lammps-128+128.3755465.47.json.df.csv', '| Size > ', 6, 12264438)\n",
      "(72, ' File : ', 'ee-test-for-ml-lammps-128+128.3755465.48.json.df.csv', '| Size > ', 6, 12440362)\n",
      "(73, ' File : ', 'ee-test-for-ml-lammps-128+128.3755465.49.json.df.csv', '| Size > ', 6, 12613811)\n",
      "(74, ' File : ', 'ee-test-for-ml-lammps-128+128.3755465.5.json.df.csv', '| Size > ', 6, 12789562)\n",
      "(75, ' File : ', 'ee-test-for-ml-lammps-128+128.3755465.50.json.df.csv', '| Size > ', 6, 12963168)\n",
      "(76, ' File : ', 'ee-test-for-ml-lammps-128+128.3755465.51.json.df.csv', '| Size > ', 6, 13134953)\n",
      "(77, ' File : ', 'ee-test-for-ml-lammps-128+128.3755465.52.json.df.csv', '| Size > ', 6, 13306538)\n",
      "(78, ' File : ', 'ee-test-for-ml-lammps-128+128.3755465.53.json.df.csv', '| Size > ', 6, 13479320)\n",
      "(79, ' File : ', 'ee-test-for-ml-lammps-128+128.3755465.54.json.df.csv', '| Size > ', 6, 13650836)\n",
      "(80, ' File : ', 'ee-test-for-ml-lammps-128+128.3755465.55.json.df.csv', '| Size > ', 6, 13821921)\n",
      "(81, ' File : ', 'ee-test-for-ml-lammps-128+128.3755465.56.json.df.csv', '| Size > ', 6, 13996390)\n",
      "(82, ' File : ', 'ee-test-for-ml-lammps-128+128.3755465.57.json.df.csv', '| Size > ', 6, 14167397)\n",
      "(83, ' File : ', 'ee-test-for-ml-lammps-128+128.3755465.58.json.df.csv', '| Size > ', 6, 14338473)\n",
      "(84, ' File : ', 'ee-test-for-ml-lammps-128+128.3755465.59.json.df.csv', '| Size > ', 6, 14510093)\n",
      "(85, ' File : ', 'ee-test-for-ml-lammps-128+128.3755465.6.json.df.csv', '| Size > ', 6, 14683672)\n",
      "(86, ' File : ', 'ee-test-for-ml-lammps-128+128.3755465.60.json.df.csv', '| Size > ', 6, 14857701)\n",
      "(87, ' File : ', 'ee-test-for-ml-lammps-128+128.3755465.61.json.df.csv', '| Size > ', 6, 15030501)\n",
      "(88, ' File : ', 'ee-test-for-ml-lammps-128+128.3755465.62.json.df.csv', '| Size > ', 6, 15204202)\n",
      "(89, ' File : ', 'ee-test-for-ml-lammps-128+128.3755465.63.json.df.csv', '| Size > ', 6, 15378385)\n",
      "(90, ' File : ', 'ee-test-for-ml-lammps-128+128.3755465.64.json.df.csv', '| Size > ', 6, 15552535)\n",
      "(91, ' File : ', 'ee-test-for-ml-lammps-128+128.3755465.65.json.df.csv', '| Size > ', 6, 15724814)\n",
      "(92, ' File : ', 'ee-test-for-ml-lammps-128+128.3755465.66.json.df.csv', '| Size > ', 6, 15897427)\n",
      "(93, ' File : ', 'ee-test-for-ml-lammps-128+128.3755465.67.json.df.csv', '| Size > ', 6, 16070949)\n",
      "(94, ' File : ', 'ee-test-for-ml-lammps-128+128.3755465.68.json.df.csv', '| Size > ', 6, 16243510)\n",
      "(95, ' File : ', 'ee-test-for-ml-lammps-128+128.3755465.69.json.df.csv', '| Size > ', 6, 16415769)\n",
      "(96, ' File : ', 'ee-test-for-ml-lammps-128+128.3755465.7.json.df.csv', '| Size > ', 6, 16582514)\n",
      "(97, ' File : ', 'ee-test-for-ml-lammps-128+128.3755465.70.json.df.csv', '| Size > ', 6, 16755643)\n",
      "(98, ' File : ', 'ee-test-for-ml-lammps-128+128.3755465.71.json.df.csv', '| Size > ', 6, 16925023)\n",
      "(99, ' File : ', 'ee-test-for-ml-lammps-128+128.3755465.72.json.df.csv', '| Size > ', 6, 17096954)\n",
      "(100, ' File : ', 'ee-test-for-ml-lammps-128+128.3755465.73.json.df.csv', '| Size > ', 6, 17268791)\n",
      "(101, ' File : ', 'ee-test-for-ml-lammps-128+128.3755465.74.json.df.csv', '| Size > ', 6, 17439832)\n",
      "(102, ' File : ', 'ee-test-for-ml-lammps-128+128.3755465.75.json.df.csv', '| Size > ', 6, 17613314)\n",
      "(103, ' File : ', 'ee-test-for-ml-lammps-128+128.3755465.76.json.df.csv', '| Size > ', 6, 17788611)\n",
      "(104, ' File : ', 'ee-test-for-ml-lammps-128+128.3755465.77.json.df.csv', '| Size > ', 6, 17959887)\n",
      "(105, ' File : ', 'ee-test-for-ml-lammps-128+128.3755465.78.json.df.csv', '| Size > ', 6, 18132216)\n",
      "(106, ' File : ', 'ee-test-for-ml-lammps-128+128.3755465.79.json.df.csv', '| Size > ', 6, 18307295)\n",
      "(107, ' File : ', 'ee-test-for-ml-lammps-128+128.3755465.8.json.df.csv', '| Size > ', 6, 18481024)\n",
      "(108, ' File : ', 'ee-test-for-ml-lammps-128+128.3755465.80.json.df.csv', '| Size > ', 6, 18656506)\n",
      "(109, ' File : ', 'ee-test-for-ml-lammps-128+128.3755465.81.json.df.csv', '| Size > ', 6, 18831080)\n",
      "(110, ' File : ', 'ee-test-for-ml-lammps-128+128.3755465.82.json.df.csv', '| Size > ', 6, 19003417)\n",
      "(111, ' File : ', 'ee-test-for-ml-lammps-128+128.3755465.83.json.df.csv', '| Size > ', 6, 19174516)\n",
      "(112, ' File : ', 'ee-test-for-ml-lammps-128+128.3755465.84.json.df.csv', '| Size > ', 6, 19344120)\n",
      "(113, ' File : ', 'ee-test-for-ml-lammps-128+128.3755465.85.json.df.csv', '| Size > ', 6, 19518807)\n",
      "(114, ' File : ', 'ee-test-for-ml-lammps-128+128.3755465.86.json.df.csv', '| Size > ', 6, 19691027)\n",
      "(115, ' File : ', 'ee-test-for-ml-lammps-128+128.3755465.87.json.df.csv', '| Size > ', 6, 19862042)\n",
      "(116, ' File : ', 'ee-test-for-ml-lammps-128+128.3755465.88.json.df.csv', '| Size > ', 6, 20034524)\n",
      "(117, ' File : ', 'ee-test-for-ml-lammps-128+128.3755465.89.json.df.csv', '| Size > ', 6, 20206733)\n",
      "(118, ' File : ', 'ee-test-for-ml-lammps-128+128.3755465.9.json.df.csv', '| Size > ', 6, 20378836)\n",
      "(119, ' File : ', 'ee-test-for-ml-lammps-128+128.3755465.90.json.df.csv', '| Size > ', 6, 20550417)\n",
      "(120, ' File : ', 'ee-test-for-ml-lammps-128+128.3755465.91.json.df.csv', '| Size > ', 6, 20722040)\n",
      "(121, ' File : ', 'ee-test-for-ml-lammps-128+128.3755465.92.json.df.csv', '| Size > ', 6, 20895608)\n",
      "(122, ' File : ', 'ee-test-for-ml-lammps-128+128.3755465.93.json.df.csv', '| Size > ', 6, 21068614)\n",
      "(123, ' File : ', 'ee-test-for-ml-lammps-128+128.3755465.94.json.df.csv', '| Size > ', 6, 21241337)\n",
      "(124, ' File : ', 'ee-test-for-ml-lammps-128+128.3755465.95.json.df.csv', '| Size > ', 6, 21415880)\n",
      "(125, ' File : ', 'ee-test-for-ml-lammps-128+128.3755465.96.json.df.csv', '| Size > ', 6, 21590215)\n",
      "(126, ' File : ', 'ee-test-for-ml-lammps-128+128.3755465.97.json.df.csv', '| Size > ', 6, 21761385)\n",
      "(127, ' File : ', 'ee-test-for-ml-lammps-128+128.3755465.98.json.df.csv', '| Size > ', 6, 21933317)\n",
      "(128, ' File : ', 'ee-test-for-ml-lammps-128+128.3755465.99.json.df.csv', '| Size > ', 6, 22105443)\n",
      "(129, ' File : ', 'ee-test-for-ml-lammps-128+16.3755462.0.json.df.csv', '| Size > ', 6, 22278476)\n",
      "(130, ' File : ', 'ee-test-for-ml-lammps-128+16.3755462.1.json.df.csv', '| Size > ', 6, 22450035)\n",
      "(131, ' File : ', 'ee-test-for-ml-lammps-128+16.3755462.10.json.df.csv', '| Size > ', 6, 22620835)\n",
      "(132, ' File : ', 'ee-test-for-ml-lammps-128+16.3755462.100.json.df.csv', '| Size > ', 6, 22795261)\n",
      "(133, ' File : ', 'ee-test-for-ml-lammps-128+16.3755462.101.json.df.csv', '| Size > ', 6, 22968831)\n",
      "(134, ' File : ', 'ee-test-for-ml-lammps-128+16.3755462.102.json.df.csv', '| Size > ', 6, 23141465)\n",
      "(135, ' File : ', 'ee-test-for-ml-lammps-128+16.3755462.103.json.df.csv', '| Size > ', 6, 23309189)\n",
      "(136, ' File : ', 'ee-test-for-ml-lammps-128+16.3755462.104.json.df.csv', '| Size > ', 6, 23480753)\n",
      "(137, ' File : ', 'ee-test-for-ml-lammps-128+16.3755462.105.json.df.csv', '| Size > ', 6, 23652862)\n",
      "(138, ' File : ', 'ee-test-for-ml-lammps-128+16.3755462.106.json.df.csv', '| Size > ', 6, 23823487)\n",
      "(139, ' File : ', 'ee-test-for-ml-lammps-128+16.3755462.107.json.df.csv', '| Size > ', 6, 23995227)\n",
      "(140, ' File : ', 'ee-test-for-ml-lammps-128+16.3755462.108.json.df.csv', '| Size > ', 6, 24169279)\n",
      "(141, ' File : ', 'ee-test-for-ml-lammps-128+16.3755462.109.json.df.csv', '| Size > ', 6, 24342712)\n",
      "(142, ' File : ', 'ee-test-for-ml-lammps-128+16.3755462.11.json.df.csv', '| Size > ', 6, 24514120)\n",
      "(143, ' File : ', 'ee-test-for-ml-lammps-128+16.3755462.110.json.df.csv', '| Size > ', 6, 24686276)\n",
      "(144, ' File : ', 'ee-test-for-ml-lammps-128+16.3755462.111.json.df.csv', '| Size > ', 6, 24861139)\n",
      "(145, ' File : ', 'ee-test-for-ml-lammps-128+16.3755462.112.json.df.csv', '| Size > ', 6, 25035160)\n",
      "(146, ' File : ', 'ee-test-for-ml-lammps-128+16.3755462.113.json.df.csv', '| Size > ', 6, 25209941)\n",
      "(147, ' File : ', 'ee-test-for-ml-lammps-128+16.3755462.114.json.df.csv', '| Size > ', 6, 25383849)\n",
      "(148, ' File : ', 'ee-test-for-ml-lammps-128+16.3755462.115.json.df.csv', '| Size > ', 6, 25556221)\n",
      "(149, ' File : ', 'ee-test-for-ml-lammps-128+16.3755462.116.json.df.csv', '| Size > ', 6, 25725447)\n",
      "(150, ' File : ', 'ee-test-for-ml-lammps-128+16.3755462.117.json.df.csv', '| Size > ', 6, 25898277)\n",
      "(151, ' File : ', 'ee-test-for-ml-lammps-128+16.3755462.118.json.df.csv', '| Size > ', 6, 26069921)\n",
      "(152, ' File : ', 'ee-test-for-ml-lammps-128+16.3755462.119.json.df.csv', '| Size > ', 6, 26241503)\n",
      "(153, ' File : ', 'ee-test-for-ml-lammps-128+16.3755462.12.json.df.csv', '| Size > ', 6, 26415234)\n",
      "(154, ' File : ', 'ee-test-for-ml-lammps-128+16.3755462.120.json.df.csv', '| Size > ', 6, 26588293)\n",
      "(155, ' File : ', 'ee-test-for-ml-lammps-128+16.3755462.121.json.df.csv', '| Size > ', 6, 26760615)\n",
      "(156, ' File : ', 'ee-test-for-ml-lammps-128+16.3755462.122.json.df.csv', '| Size > ', 6, 26932433)\n",
      "(157, ' File : ', 'ee-test-for-ml-lammps-128+16.3755462.123.json.df.csv', '| Size > ', 6, 27105571)\n",
      "(158, ' File : ', 'ee-test-for-ml-lammps-128+16.3755462.124.json.df.csv', '| Size > ', 6, 27280260)\n",
      "(159, ' File : ', 'ee-test-for-ml-lammps-128+16.3755462.125.json.df.csv', '| Size > ', 6, 27452927)\n",
      "(160, ' File : ', 'ee-test-for-ml-lammps-128+16.3755462.126.json.df.csv', '| Size > ', 6, 27626383)\n",
      "(161, ' File : ', 'ee-test-for-ml-lammps-128+16.3755462.127.json.df.csv', '| Size > ', 6, 27799209)\n",
      "(162, ' File : ', 'ee-test-for-ml-lammps-128+16.3755462.13.json.df.csv', '| Size > ', 6, 27974223)\n",
      "(163, ' File : ', 'ee-test-for-ml-lammps-128+16.3755462.14.json.df.csv', '| Size > ', 6, 28145080)\n",
      "(164, ' File : ', 'ee-test-for-ml-lammps-128+16.3755462.15.json.df.csv', '| Size > ', 6, 28319786)\n",
      "(165, ' File : ', 'ee-test-for-ml-lammps-128+16.3755462.16.json.df.csv', '| Size > ', 6, 28494335)\n",
      "(166, ' File : ', 'ee-test-for-ml-lammps-128+16.3755462.17.json.df.csv', '| Size > ', 6, 28668009)\n",
      "(167, ' File : ', 'ee-test-for-ml-lammps-128+16.3755462.18.json.df.csv', '| Size > ', 6, 28842774)\n",
      "(168, ' File : ', 'ee-test-for-ml-lammps-128+16.3755462.19.json.df.csv', '| Size > ', 6, 29015614)\n",
      "(169, ' File : ', 'ee-test-for-ml-lammps-128+16.3755462.2.json.df.csv', '| Size > ', 6, 29188219)\n",
      "(170, ' File : ', 'ee-test-for-ml-lammps-128+16.3755462.20.json.df.csv', '| Size > ', 6, 29358839)\n",
      "(171, ' File : ', 'ee-test-for-ml-lammps-128+16.3755462.21.json.df.csv', '| Size > ', 6, 29530142)\n",
      "(172, ' File : ', 'ee-test-for-ml-lammps-128+16.3755462.22.json.df.csv', '| Size > ', 6, 29701201)\n",
      "(173, ' File : ', 'ee-test-for-ml-lammps-128+16.3755462.23.json.df.csv', '| Size > ', 6, 29872549)\n",
      "(174, ' File : ', 'ee-test-for-ml-lammps-128+16.3755462.24.json.df.csv', '| Size > ', 6, 30047596)\n",
      "(175, ' File : ', 'ee-test-for-ml-lammps-128+16.3755462.25.json.df.csv', '| Size > ', 6, 30218270)\n",
      "(176, ' File : ', 'ee-test-for-ml-lammps-128+16.3755462.26.json.df.csv', '| Size > ', 6, 30389735)\n",
      "(177, ' File : ', 'ee-test-for-ml-lammps-128+16.3755462.27.json.df.csv', '| Size > ', 6, 30562872)\n",
      "(178, ' File : ', 'ee-test-for-ml-lammps-128+16.3755462.28.json.df.csv', '| Size > ', 6, 30738058)\n",
      "(179, ' File : ', 'ee-test-for-ml-lammps-128+16.3755462.29.json.df.csv', '| Size > ', 6, 30910457)\n",
      "(180, ' File : ', 'ee-test-for-ml-lammps-128+16.3755462.3.json.df.csv', '| Size > ', 6, 31082307)\n",
      "(181, ' File : ', 'ee-test-for-ml-lammps-128+16.3755462.30.json.df.csv', '| Size > ', 6, 31256814)\n",
      "(182, ' File : ', 'ee-test-for-ml-lammps-128+16.3755462.31.json.df.csv', '| Size > ', 6, 31429337)\n",
      "(183, ' File : ', 'ee-test-for-ml-lammps-128+16.3755462.32.json.df.csv', '| Size > ', 6, 31601773)\n",
      "(184, ' File : ', 'ee-test-for-ml-lammps-128+16.3755462.33.json.df.csv', '| Size > ', 6, 31774328)\n",
      "(185, ' File : ', 'ee-test-for-ml-lammps-128+16.3755462.34.json.df.csv', '| Size > ', 6, 31947578)\n",
      "(186, ' File : ', 'ee-test-for-ml-lammps-128+16.3755462.35.json.df.csv', '| Size > ', 6, 32120462)\n",
      "(187, ' File : ', 'ee-test-for-ml-lammps-128+16.3755462.36.json.df.csv', '| Size > ', 6, 32293059)\n",
      "(188, ' File : ', 'ee-test-for-ml-lammps-128+16.3755462.37.json.df.csv', '| Size > ', 6, 32467558)\n",
      "(189, ' File : ', 'ee-test-for-ml-lammps-128+16.3755462.38.json.df.csv', '| Size > ', 6, 32641517)\n",
      "(190, ' File : ', 'ee-test-for-ml-lammps-128+16.3755462.39.json.df.csv', '| Size > ', 6, 32810259)\n",
      "(191, ' File : ', 'ee-test-for-ml-lammps-128+16.3755462.4.json.df.csv', '| Size > ', 6, 32985004)\n",
      "(192, ' File : ', 'ee-test-for-ml-lammps-128+16.3755462.40.json.df.csv', '| Size > ', 6, 33159037)\n",
      "(193, ' File : ', 'ee-test-for-ml-lammps-128+16.3755462.41.json.df.csv', '| Size > ', 6, 33330958)\n",
      "(194, ' File : ', 'ee-test-for-ml-lammps-128+16.3755462.42.json.df.csv', '| Size > ', 6, 33502756)\n",
      "(195, ' File : ', 'ee-test-for-ml-lammps-128+16.3755462.43.json.df.csv', '| Size > ', 6, 33675998)\n",
      "(196, ' File : ', 'ee-test-for-ml-lammps-128+16.3755462.44.json.df.csv', '| Size > ', 6, 33851179)\n",
      "(197, ' File : ', 'ee-test-for-ml-lammps-128+16.3755462.45.json.df.csv', '| Size > ', 6, 34024063)\n",
      "(198, ' File : ', 'ee-test-for-ml-lammps-128+16.3755462.46.json.df.csv', '| Size > ', 6, 34195149)\n",
      "(199, ' File : ', 'ee-test-for-ml-lammps-128+16.3755462.47.json.df.csv', '| Size > ', 6, 34369881)\n",
      "(200, ' File : ', 'ee-test-for-ml-lammps-128+16.3755462.48.json.df.csv', '| Size > ', 6, 34545805)\n",
      "(201, ' File : ', 'ee-test-for-ml-lammps-128+16.3755462.49.json.df.csv', '| Size > ', 6, 34719254)\n"
     ]
    }
   ],
   "source": [
    "os.getcwd()\n",
    "os.chdir(\"/datavol2/bnl_dataframes/csvs\")\n",
    "os.getcwd()\n",
    "\n",
    "init  = True\n",
    "sf    = None\n",
    "itera = 0\n",
    "\n",
    "for file in glob.glob(\"ee*.json.df.csv\"):\n",
    "    itera += 1\n",
    "    #\n",
    "    if init:\n",
    "        #first call\n",
    "        sf = gl.SFrame.read_csv(file, verbose=False)\n",
    "        init = False\n",
    "    else:\n",
    "        sf = sf.append(gl.SFrame.read_csv(file, verbose=False))\n",
    "    #\n",
    "    print(itera, \" File : \", file, \"| Size > \", sf.num_cols(), sf.num_rows())\n",
    "    \n",
    "    if itera > 200:\n",
    "        break"
   ]
  },
  {
   "cell_type": "code",
   "execution_count": 11,
   "metadata": {
    "collapsed": false
   },
   "outputs": [
    {
     "name": "stdout",
     "output_type": "stream",
     "text": [
      "(6, 34719254)\n"
     ]
    }
   ],
   "source": [
    "print(sf.num_cols(), sf.num_rows())"
   ]
  },
  {
   "cell_type": "code",
   "execution_count": 12,
   "metadata": {
    "collapsed": false
   },
   "outputs": [
    {
     "data": {
      "text/html": [
       "<div style=\"max-height:1000px;max-width:1500px;overflow:auto;\"><table frame=\"box\" rules=\"cols\">\n",
       "    <tr>\n",
       "        <th style=\"padding-left: 1em; padding-right: 1em; text-align: center\">X1</th>\n",
       "        <th style=\"padding-left: 1em; padding-right: 1em; text-align: center\">kl</th>\n",
       "        <th style=\"padding-left: 1em; padding-right: 1em; text-align: center\">time_by_lasttime</th>\n",
       "        <th style=\"padding-left: 1em; padding-right: 1em; text-align: center\">time_diff</th>\n",
       "        <th style=\"padding-left: 1em; padding-right: 1em; text-align: center\">node_id</th>\n",
       "        <th style=\"padding-left: 1em; padding-right: 1em; text-align: center\">thread_id</th>\n",
       "    </tr>\n",
       "    <tr>\n",
       "        <td style=\"padding-left: 1em; padding-right: 1em; text-align: center; vertical-align: top\">0</td>\n",
       "        <td style=\"padding-left: 1em; padding-right: 1em; text-align: center; vertical-align: top\">.TAUapplication:MPI_Init(<br>) ...</td>\n",
       "        <td style=\"padding-left: 1em; padding-right: 1em; text-align: center; vertical-align: top\">1.06032750438e-05</td>\n",
       "        <td style=\"padding-left: 1em; padding-right: 1em; text-align: center; vertical-align: top\">55893.0</td>\n",
       "        <td style=\"padding-left: 1em; padding-right: 1em; text-align: center; vertical-align: top\">0</td>\n",
       "        <td style=\"padding-left: 1em; padding-right: 1em; text-align: center; vertical-align: top\">0</td>\n",
       "    </tr>\n",
       "</table>\n",
       "[1 rows x 6 columns]<br/>\n",
       "</div>"
      ],
      "text/plain": [
       "Columns:\n",
       "\tX1\tint\n",
       "\tkl\tstr\n",
       "\ttime_by_lasttime\tfloat\n",
       "\ttime_diff\tfloat\n",
       "\tnode_id\tint\n",
       "\tthread_id\tint\n",
       "\n",
       "Rows: 1\n",
       "\n",
       "Data:\n",
       "+----+----------------------------+-------------------+-----------+---------+-----------+\n",
       "| X1 |             kl             |  time_by_lasttime | time_diff | node_id | thread_id |\n",
       "+----+----------------------------+-------------------+-----------+---------+-----------+\n",
       "| 0  | .TAUapplication:MPI_Init() | 1.06032750438e-05 |  55893.0  |    0    |     0     |\n",
       "+----+----------------------------+-------------------+-----------+---------+-----------+\n",
       "[1 rows x 6 columns]"
      ]
     },
     "execution_count": 12,
     "metadata": {},
     "output_type": "execute_result"
    }
   ],
   "source": [
    "sf.head(1)"
   ]
  },
  {
   "cell_type": "code",
   "execution_count": 13,
   "metadata": {
    "collapsed": false
   },
   "outputs": [],
   "source": [
    "import graphlab.aggregate as agg\n",
    "ngram_count = sf.groupby(key_columns='kl', operations={'numberofcalls': agg.COUNT()})"
   ]
  },
  {
   "cell_type": "code",
   "execution_count": 15,
   "metadata": {
    "collapsed": false
   },
   "outputs": [
    {
     "name": "stdout",
     "output_type": "stream",
     "text": [
      "+-------------------------------------------------------------+---------------+\n",
      "|                              kl                             | numberofcalls |\n",
      "+-------------------------------------------------------------+---------------+\n",
      "| voidLAMMPS_NS::Run::command(int,char**):voidLAMMPS_NS::V... |    3062943    |\n",
      "| voidLAMMPS_NS::Run::command(int,char**):voidLAMMPS_NS::V... |    3062943    |\n",
      "| voidLAMMPS_NS::Run::command(int,char**):voidLAMMPS_NS::V... |    3062943    |\n",
      "| voidLAMMPS_NS::Verlet::run(int):voidLAMMPS_NS::PairEAM::... |    3055707    |\n",
      "| voidLAMMPS_NS::Verlet::run(int):voidLAMMPS_NS::PairEAM::... |    3055707    |\n",
      "| voidLAMMPS_NS::Verlet::run(int):voidLAMMPS_NS::PairEAM::... |    3055707    |\n",
      "| voidLAMMPS_NS::Verlet::run(int):voidLAMMPS_NS::PairEAM::... |    1591920    |\n",
      "| voidLAMMPS_NS::Verlet::run(int):voidLAMMPS_NS::PairEAM::... |    1591920    |\n",
      "| voidLAMMPS_NS::Verlet::run(int):voidLAMMPS_NS::PairEAM::... |    1591920    |\n",
      "| voidLAMMPS_NS::Run::command(int,char**):voidLAMMPS_NS::V... |    1591920    |\n",
      "+-------------------------------------------------------------+---------------+\n",
      "[796 rows x 2 columns]\n",
      "\n"
     ]
    }
   ],
   "source": [
    "ngram_count = ngram_count.sort('numberofcalls', ascending = False)\n",
    "ngram_count.print_rows(max_column_width=60)"
   ]
  },
  {
   "cell_type": "code",
   "execution_count": 27,
   "metadata": {
    "collapsed": false,
    "scrolled": true
   },
   "outputs": [
    {
     "name": "stdout",
     "output_type": "stream",
     "text": [
      "+-------------------------------------------------------------+---------------+\n",
      "|                              kl                             | numberofcalls |\n",
      "+-------------------------------------------------------------+---------------+\n",
      "| voidLAMMPS_NS::Run::command(int,char**):voidLAMMPS_NS::V... |    3062943    |\n",
      "+-------------------------------------------------------------+---------------+\n",
      "[1 rows x 2 columns]\n",
      "\n"
     ]
    }
   ],
   "source": [
    "# Define max and min threshold\n",
    "minn = 1591920\n",
    "maxx = 10*min                      #float(\"inf\")\n",
    "\n",
    "subset = ngram_count[(ngram_count['numberofcalls'] > minn) & (ngram_count['numberofcalls'] < maxx)]\n",
    "freq   = subset.sample(0.1)\n",
    "\n",
    "mul=0.01\n",
    "while (len(freq) < 1 and mul<1):\n",
    "    mul    *= 5\n",
    "    freq   = subset.sample(mul)\n",
    "    \n",
    "    \n",
    "freq.print_rows(max_column_width=60)"
   ]
  },
  {
   "cell_type": "code",
   "execution_count": 42,
   "metadata": {
    "collapsed": false
   },
   "outputs": [],
   "source": [
    "def perform_bayesiancp(sf, thetitle, frac):\n",
    "    import numpy as np\n",
    "    import matplotlib.pyplot as plt\n",
    "    \n",
    "    fig = matplotlib.pyplot.gcf()\n",
    "    fig.set_size_inches(15.5, 10.5)\n",
    "    \n",
    "    #Prune extreme outliers\n",
    "    prune   = 100000\n",
    "    howmany = 1\n",
    "    \n",
    "    while (len(sf[sf['time_diff']>prune]) > 10):\n",
    "        prune   += 50000\n",
    "        howmany += 1\n",
    "        if(howmany > 100):\n",
    "            print('Break')\n",
    "            break\n",
    "    \n",
    "    sf = sf[sf['time_diff']<prune]\n",
    "    \n",
    "    # sort by time\n",
    "    sf = sf.sort('time_by_lasttime', ascending = True)\n",
    "    #print('Checkpoint 1 Sorted')\n",
    "    \n",
    "    model = gl.anomaly_detection.bayesian_changepoints.create(sf, lag=3,   feature='time_diff')\n",
    "    \n",
    "    #model['scores'].print_rows(max_column_width=100)\n",
    "    \n",
    "    scores = model['scores']['changepoint_score']\n",
    "    \n",
    "    #print('Checkpoint 2')\n",
    "    \n",
    "    thresh = 0.1\n",
    "    # Select the threshold value\n",
    "    howmany = 1\n",
    "    while (len(scores[scores>thresh]) > frac*len(scores) and thresh<=.99):\n",
    "        thresh  += .001\n",
    "        howmany += 1\n",
    "    \n",
    "    print(\"Threshold = %.4f, #Anomalies=%d, Total #Datapoints=%d\" % (thresh, len(scores[scores>thresh]), len(scores)))\n",
    "    \n",
    "    plt.title(\"Bayesian Changepoints; function: \" + str(thetitle))\n",
    "    \n",
    "    # Method 1\n",
    "    #print('Checkpoint 3')\n",
    "    df_outliers   = model['scores'][model['scores']['changepoint_score'] > thresh]\n",
    "    time_outliers = sf[model['scores']['changepoint_score'] > thresh]['time_by_lasttime']\n",
    "    \n",
    "    #print('Checkpoint 4')\n",
    "    df_normals   = model['scores'][model['scores']['changepoint_score'] <= thresh]\n",
    "    time_normals = sf[model['scores']['changepoint_score'] <= thresh]['time_by_lasttime']\n",
    "    \n",
    "    # Plot\n",
    "    #print('Checkpoint 5')\n",
    "    g = plt.scatter(time_normals ,  df_normals['time_diff'], c='green', s=65, edgecolor='k')\n",
    "    h = plt.scatter(time_outliers, df_outliers['time_diff'], c='red', s=65, edgecolor='k')\n",
    "    \n",
    "    # Adjust Plot\n",
    "    minx=sf['time_by_lasttime'].min()\n",
    "    maxx=sf['time_by_lasttime'].max()\n",
    "    miny=sf['time_diff'].min()\n",
    "    maxy=sf['time_diff'].max()\n",
    "    \n",
    "    plt.axis('tight')\n",
    "    plt.xlim((minx, maxx))\n",
    "    plt.ylim((miny, maxy))\n",
    "    plt.legend([g, h],[\"Normal\",\"Outliers\"],loc=\"upper right\")\n",
    "    plt.show()\n",
    "    #matplotlib.pyplot.draw() "
   ]
  },
  {
   "cell_type": "code",
   "execution_count": 43,
   "metadata": {
    "collapsed": false
   },
   "outputs": [
    {
     "name": "stdout",
     "output_type": "stream",
     "text": [
      "Threshold = 0.9900, #Anomalies=348, Total #Datapoints=3062943\n"
     ]
    },
    {
     "data": {
      "image/png": "[encoded data removed]",
      "text/plain": [
       "<matplotlib.figure.Figure at 0x7f08403f1f90>"
      ]
     },
     "metadata": {},
     "output_type": "display_data"
    },
    {
     "name": "stdout",
     "output_type": "stream",
     "text": [
      "CPU times: user 24min 24s, sys: 20min 44s, total: 45min 9s\n",
      "Wall time: 13min 28s\n"
     ]
    }
   ],
   "source": [
    "%%time\n",
    "\n",
    "sns.set_context(\"notebook\", font_scale=1.2, rc={\"lines.linewidth\": 2.5})\n",
    "\n",
    "for i in range(len(freq)):\n",
    "    pick_func = freq[i]['kl']\n",
    "    count     = freq[i]['numberofcalls']\n",
    "    lbl       = str(pick_func)[:25] +'_count_'+ str(count)\n",
    "    \n",
    "    perform_bayesiancp(sf[sf['kl'] == pick_func], thetitle=lbl, frac=0.0001)"
   ]
  },
  {
   "cell_type": "code",
   "execution_count": null,
   "metadata": {
    "collapsed": true
   },
   "outputs": [],
   "source": [
    "#################################################################\n",
    "#################################################################\n",
    "#################################################################\n",
    "#################################################################\n",
    "#################################################################"
   ]
  }
 ],
 "metadata": {
  "kernelspec": {
   "display_name": "Python 2",
   "language": "python",
   "name": "python2"
  },
  "language_info": {
   "codemirror_mode": {
    "name": "ipython",
    "version": 2
   },
   "file_extension": ".py",
   "mimetype": "text/x-python",
   "name": "python",
   "nbconvert_exporter": "python",
   "pygments_lexer": "ipython2",
   "version": "2.7.13"
  }
 },
 "nbformat": 4,
 "nbformat_minor": 2
}
